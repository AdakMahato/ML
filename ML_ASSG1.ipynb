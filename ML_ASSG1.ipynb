{
  "nbformat": 4,
  "nbformat_minor": 0,
  "metadata": {
    "colab": {
      "provenance": [],
      "authorship_tag": "ABX9TyNr0fvEUsnPGMLgRySmVpPH",
      "include_colab_link": true
    },
    "kernelspec": {
      "name": "python3",
      "display_name": "Python 3"
    },
    "language_info": {
      "name": "python"
    }
  },
  "cells": [
    {
      "cell_type": "markdown",
      "metadata": {
        "id": "view-in-github",
        "colab_type": "text"
      },
      "source": [
        "<a href=\"https://colab.research.google.com/github/AdakMahato/ML/blob/Numpy/ML_ASSG1.ipynb\" target=\"_parent\"><img src=\"https://colab.research.google.com/assets/colab-badge.svg\" alt=\"Open In Colab\"/></a>"
      ]
    },
    {
      "cell_type": "markdown",
      "source": [
        "# ***Q1: Questions on Basic NumPy ***"
      ],
      "metadata": {
        "id": "qQNt1nvjZQ2F"
      }
    },
    {
      "cell_type": "markdown",
      "source": [
        "(a) Reverse the NumPy array: arr = np.array([1, 2, 3, 6, 4, 5])"
      ],
      "metadata": {
        "id": "RHRMw8VUZWuZ"
      }
    },
    {
      "cell_type": "code",
      "execution_count": null,
      "metadata": {
        "colab": {
          "base_uri": "https://localhost:8080/"
        },
        "id": "-ujptSuDXvqJ",
        "outputId": "182f4649-7cdd-421b-da85-388fd615daa7"
      },
      "outputs": [
        {
          "output_type": "stream",
          "name": "stdout",
          "text": [
            "[5 4 6 3 2 1]\n"
          ]
        }
      ],
      "source": [
        "import numpy as np\n",
        "arr = np.array([1, 2, 3, 6, 4, 5])\n",
        "#arr[::-1]\n",
        "print(np.flip(arr))"
      ]
    },
    {
      "cell_type": "markdown",
      "source": [
        "(b) Flatten the NumPy arr: array1 = np.array([[1, 2, 3], [2, 4, 5], [1, 2, 3]]) using any two\n",
        "NumPy in-built methods"
      ],
      "metadata": {
        "id": "1JfF79pKZzja"
      }
    },
    {
      "cell_type": "code",
      "source": [
        "\n",
        "array1 = np.array([[1, 2, 3], [2, 4, 5], [1, 2, 3]])\n",
        "print(array1.flatten())\n",
        "print(array1.ravel())"
      ],
      "metadata": {
        "colab": {
          "base_uri": "https://localhost:8080/"
        },
        "id": "ZBH3uplzZoJC",
        "outputId": "e86608fd-8eab-4252-b7d3-8fdc0fb9304e"
      },
      "execution_count": null,
      "outputs": [
        {
          "output_type": "stream",
          "name": "stdout",
          "text": [
            "[1 2 3 2 4 5 1 2 3]\n",
            "[1 2 3 2 4 5 1 2 3]\n"
          ]
        }
      ]
    },
    {
      "cell_type": "markdown",
      "source": [
        "(c) Compare the following numpy arrays:\n",
        "\n",
        "arr1 = np.array([[1, 2], [3, 4]]) arr2 = np.array([[1, 2], [3, 4]])"
      ],
      "metadata": {
        "id": "m35CxidUaLn-"
      }
    },
    {
      "cell_type": "code",
      "source": [
        "arr1 = np.array([[1, 2], [3, 4]])\n",
        "arr2 = np.array([[1, 2], [3, 1]])\n",
        "print(np.array_equal(arr1,arr2))"
      ],
      "metadata": {
        "colab": {
          "base_uri": "https://localhost:8080/"
        },
        "id": "vk4aSMyMaCma",
        "outputId": "d3bf35be-a039-4411-cc8f-45312337ca9a"
      },
      "execution_count": null,
      "outputs": [
        {
          "output_type": "stream",
          "name": "stdout",
          "text": [
            "False\n"
          ]
        }
      ]
    },
    {
      "cell_type": "markdown",
      "source": [
        "(d) Find the most frequent value and their indice(s) in the following arrays:\n",
        "\n",
        "x = np.array([1,2,3,4,5,1,2,1,1,1])\n",
        "y = np.array([1, 1, 1, 2, 3, 4, 2, 4, 3, 3, ])"
      ],
      "metadata": {
        "id": "rexjK3l2ajvB"
      }
    },
    {
      "cell_type": "code",
      "source": [
        "x=np.array([1,2,3,4,5,1,2,1,1,1])\n",
        "y=np.array([1, 1, 1, 2, 3, 4, 2, 4, 3, 3, ])\n",
        "val1=np.bincount(x).argmax()\n",
        "print(val1)\n",
        "indices=np.where(x==val1)\n",
        "print(indices)\n",
        "\n",
        "val2=np.bincount(y).argmax()\n",
        "print(val2)\n",
        "indices1=np.where(y==val2)\n",
        "print(indices1)"
      ],
      "metadata": {
        "colab": {
          "base_uri": "https://localhost:8080/"
        },
        "id": "r6H_dD2vaf8h",
        "outputId": "340cb2e8-2c01-4cc0-d58c-715687e48ae5"
      },
      "execution_count": null,
      "outputs": [
        {
          "output_type": "stream",
          "name": "stdout",
          "text": [
            "1\n",
            "(array([0, 5, 7, 8, 9]),)\n",
            "1\n",
            "(array([0, 1, 2]),)\n"
          ]
        }
      ]
    },
    {
      "cell_type": "markdown",
      "source": [
        "(e) For the array gfg = np.matrix('[4, 1, 9; 12, 3, 1; 4, 5, 6]'), find Sum of all elements\n",
        "\n",
        "i)Sum of all elements\n",
        "\n",
        "ii)Sum of all elements row-wise\n",
        "\n",
        "\n",
        "iii)Sum of all elements column-wise"
      ],
      "metadata": {
        "id": "eScr9BZkcceM"
      }
    },
    {
      "cell_type": "code",
      "source": [
        "get_config=np.get_printoptions()\n",
        "gfg = np.matrix('[4, 1, 9; 12, 3, 1; 4, 5, 6]')\n",
        "\n",
        "#i\n",
        "print(np.sum(gfg))\n",
        "print(\"\\n\")\n",
        "#ii\n",
        "print(np.sum(gfg,axis=1))\n",
        "print(\"\\n\")\n",
        "#iii\n",
        "print(np.sum(gfg,axis=0))\n"
      ],
      "metadata": {
        "colab": {
          "base_uri": "https://localhost:8080/"
        },
        "id": "dJQzMQXjbYCd",
        "outputId": "9993844e-2851-4401-c1dc-eed605a3f500"
      },
      "execution_count": null,
      "outputs": [
        {
          "output_type": "stream",
          "name": "stdout",
          "text": [
            "45\n",
            "\n",
            "\n",
            "[[14]\n",
            " [16]\n",
            " [15]]\n",
            "\n",
            "\n",
            "[[20  9 16]]\n"
          ]
        }
      ]
    },
    {
      "cell_type": "markdown",
      "source": [
        "(f) For the matrix: n_array = np.array([[55, 25, 15],[30, 44, 2],[11, 45, 77]]), find\n",
        "\n",
        "i) Sum of diagonal elements\n",
        "\n",
        "ii) Eigen values of matrix\n",
        "\n",
        "iii)Eigen vectors of matrix\n",
        "\n",
        "iv) Inverse of matrix\n",
        "\n",
        "v) Determinant of matrix"
      ],
      "metadata": {
        "id": "aUJSHmnoeQvH"
      }
    },
    {
      "cell_type": "code",
      "source": [
        "n_array=np.array([[55, 25, 15],[30, 44, 2],[11, 45, 77]])\n",
        "#i\n",
        "print(n_array.diagonal().sum())\n",
        "print('\\n')\n",
        "\n",
        "#ii\n",
        "print(np.linalg.eigvals(n_array))\n",
        "print('\\n')\n",
        "\n",
        "#iii\n",
        "print(np.linalg.eig(n_array))\n",
        "print('\\n')\n",
        "\n",
        "#iv\n",
        "print(np.linalg.inv(n_array))\n",
        "print('\\n')\n",
        "\n",
        "#v\n",
        "print(np.linalg.det(n_array))"
      ],
      "metadata": {
        "colab": {
          "base_uri": "https://localhost:8080/"
        },
        "id": "HTRtSW-Rdm__",
        "outputId": "8fcdbf40-e8a4-4db4-b575-8511f44b10e4"
      },
      "execution_count": null,
      "outputs": [
        {
          "output_type": "stream",
          "name": "stdout",
          "text": [
            "176\n",
            "\n",
            "\n",
            "[98.16835147 28.097044   49.73460452]\n",
            "\n",
            "\n",
            "EigResult(eigenvalues=array([98.16835147, 28.097044  , 49.73460452]), eigenvectors=array([[ 0.4574917 ,  0.34637121, -0.15017693],\n",
            "       [ 0.28447814, -0.72784061, -0.4852124 ],\n",
            "       [ 0.84248058,  0.59184038,  0.8614034 ]]))\n",
            "\n",
            "\n",
            "[[ 0.02404141 -0.00911212 -0.00444671]\n",
            " [-0.01667882  0.02966905  0.0024785 ]\n",
            " [ 0.00631287 -0.01603732  0.01217379]]\n",
            "\n",
            "\n",
            "137180.0000000001\n"
          ]
        }
      ]
    },
    {
      "cell_type": "markdown",
      "source": [
        "\n",
        "(g) Multiply the following matrices and also find covariance between matrices using NumPy:\n",
        "\n",
        "i)\n",
        "\n",
        "p = [[1, 2], [2, 3]]   \n",
        "\n",
        "q = [[4, 5], [6, 7]]\n",
        "\n",
        "ii)\n",
        "\n",
        "p = [[1, 2], [2, 3], [4, 5]]\n",
        "\n",
        "q = [[4, 5, 1], [6, 7, 2]]"
      ],
      "metadata": {
        "id": "tMpUcHPrfpQK"
      }
    },
    {
      "cell_type": "code",
      "source": [
        "#i\n",
        "p = np.array([[1, 2], [2, 3]])\n",
        "q = np.array([[4, 5], [6, 7]])\n",
        "print(np.dot(p,q))\n",
        "print('\\n')\n",
        "print(np.cov(p.flatten(),q.flatten()))"
      ],
      "metadata": {
        "colab": {
          "base_uri": "https://localhost:8080/"
        },
        "id": "xrEKNR_yfo2X",
        "outputId": "0c9a6678-508f-4233-f243-92f84ed1076e"
      },
      "execution_count": null,
      "outputs": [
        {
          "output_type": "stream",
          "name": "stdout",
          "text": [
            "[[16 19]\n",
            " [26 31]]\n",
            "\n",
            "\n",
            "[[0.66666667 1.        ]\n",
            " [1.         1.66666667]]\n"
          ]
        }
      ]
    },
    {
      "cell_type": "code",
      "source": [
        "#ii\n",
        "p = np.array([[1, 2], [2, 3], [4, 5]])\n",
        "q = np.array([[4, 5, 1], [6, 7, 2]])\n",
        "print(np.dot(p,q))\n",
        "print('\\n')\n",
        "print(np.cov(p.flatten(),q.flatten()))\n"
      ],
      "metadata": {
        "colab": {
          "base_uri": "https://localhost:8080/"
        },
        "id": "HM7eTsOIfDUP",
        "outputId": "173caa36-1c86-4cac-8aae-fc13bb84574c"
      },
      "execution_count": null,
      "outputs": [
        {
          "output_type": "stream",
          "name": "stdout",
          "text": [
            "[[16 19  5]\n",
            " [26 31  8]\n",
            " [46 55 14]]\n",
            "\n",
            "\n",
            "[[2.16666667 0.23333333]\n",
            " [0.23333333 5.36666667]]\n"
          ]
        }
      ]
    },
    {
      "cell_type": "markdown",
      "source": [
        "For the matrices: x = np.array([[2, 3, 4], [3, 2, 9]]); y = np.array([[1, 5, 0], [5, 10, 3]]),\n",
        "find inner, outer and cartesian product"
      ],
      "metadata": {
        "id": "uiXpH8ObhlVp"
      }
    },
    {
      "cell_type": "code",
      "source": [
        "x=np.array([[2, 3, 4], [3, 2, 9]])\n",
        "y=np.array([[1, 5, 0], [5, 10, 3]])\n",
        "print(np.inner(x,y))\n",
        "print('\\n')\n",
        "print(np.outer(x,y))\n",
        "print('\\n')\n",
        "print(np.cross(x,y))"
      ],
      "metadata": {
        "colab": {
          "base_uri": "https://localhost:8080/"
        },
        "id": "TeLmI5INhg1p",
        "outputId": "266a433d-6b2e-4770-bafc-09b7f58bafe4"
      },
      "execution_count": null,
      "outputs": [
        {
          "output_type": "stream",
          "name": "stdout",
          "text": [
            "[[17 52]\n",
            " [13 62]]\n",
            "\n",
            "\n",
            "[[ 2 10  0 10 20  6]\n",
            " [ 3 15  0 15 30  9]\n",
            " [ 4 20  0 20 40 12]\n",
            " [ 3 15  0 15 30  9]\n",
            " [ 2 10  0 10 20  6]\n",
            " [ 9 45  0 45 90 27]]\n",
            "\n",
            "\n",
            "[[-20   4   7]\n",
            " [-84  36  20]]\n"
          ]
        }
      ]
    },
    {
      "cell_type": "markdown",
      "source": [],
      "metadata": {
        "id": "Zy0i2jqfh46F"
      }
    },
    {
      "cell_type": "markdown",
      "source": [
        "\n",
        "# **Q2: Based on NumPy Mathematics and Statistics**\n",
        "\n",
        "\n"
      ],
      "metadata": {
        "id": "-PBxZ5hjh4jt"
      }
    },
    {
      "cell_type": "markdown",
      "source": [
        "(a)\n",
        "For the array: array = np.array([[1, -2, 3],[-4, 5, -6]])\n",
        "\n",
        "i) Find element-wise absolute value\n",
        "\n",
        "ii)Find the 25th, 50th, and 75th percentile of flattened array, for each column, for each row.\n",
        "\n",
        "\n",
        "iii)Mean, Median and Standard Deviation of flattened array, of each column, and each row"
      ],
      "metadata": {
        "id": "Jow6BI44h8XE"
      }
    },
    {
      "cell_type": "code",
      "source": [
        "array = np.array([[1, -2, 3],[-4, 5, -6]])\n",
        "#i\n",
        "print(np.absolute(array))\n",
        "print('\\n')\n",
        "\n"
      ],
      "metadata": {
        "colab": {
          "base_uri": "https://localhost:8080/"
        },
        "id": "Gz26qUPLiId7",
        "outputId": "ed87fd43-523a-46b8-df35-d26123b9b660"
      },
      "execution_count": null,
      "outputs": [
        {
          "output_type": "stream",
          "name": "stdout",
          "text": [
            "[[1 2 3]\n",
            " [4 5 6]]\n",
            "\n",
            "\n"
          ]
        }
      ]
    },
    {
      "cell_type": "code",
      "source": [
        "\n",
        "\n",
        "# ii)Find the 25th, 50th, and 75th percentile of flattened array, for each column, for each row.\n",
        "array = np.array([[1, -2, 3],[-4, 5, -6]])\n",
        "\n",
        "flattened_array = array.flatten()\n",
        "\n",
        "percentiles_flattened = {\n",
        "    '25th': np.percentile(flattened_array, 25),\n",
        "    '50th (Median)': np.percentile(flattened_array, 50),\n",
        "    '75th': np.percentile(flattened_array, 75)\n",
        "}\n",
        "print(\"Percentiles of flattened array:\")\n",
        "print(percentiles_flattened)\n",
        "\n",
        "percentiles_columns = {\n",
        "    '25th': np.percentile(array, 25, axis=0),\n",
        "    '50th (Median)': np.percentile(array, 50, axis=0),\n",
        "    '75th': np.percentile(array, 75, axis=0)\n",
        "}\n",
        "print(\"Percentiles for each column:\")\n",
        "print(percentiles_columns)\n",
        "\n",
        "percentiles_rows = {\n",
        "    '25th': np.percentile(array, 25, axis=1),\n",
        "    '50th (Median)': np.percentile(array, 50, axis=1),\n",
        "    '75th': np.percentile(array, 75, axis=1)\n",
        "}\n",
        "print(\"Percentiles for each row:\")\n",
        "print(percentiles_rows)"
      ],
      "metadata": {
        "colab": {
          "base_uri": "https://localhost:8080/"
        },
        "id": "xh6ptVN4lxY5",
        "outputId": "4e789ce8-51d5-4468-96c7-98f67dfe20a6"
      },
      "execution_count": null,
      "outputs": [
        {
          "output_type": "stream",
          "name": "stdout",
          "text": [
            "Percentiles of flattened array:\n",
            "{'25th': -3.5, '50th (Median)': -0.5, '75th': 2.5}\n",
            "Percentiles for each column:\n",
            "{'25th': array([-2.75, -0.25, -3.75]), '50th (Median)': array([-1.5,  1.5, -1.5]), '75th': array([-0.25,  3.25,  0.75])}\n",
            "Percentiles for each row:\n",
            "{'25th': array([-0.5, -5. ]), '50th (Median)': array([ 1., -4.]), '75th': array([2. , 0.5])}\n"
          ]
        }
      ]
    },
    {
      "cell_type": "code",
      "source": [
        "#Mean, Median and Standard Deviation of flattened array, of each column, and each row\n",
        "array = np.array([[1, -2, 3],[-4, 5, -6]])\n",
        "\n",
        "flattened_array = array.flatten()\n",
        "\n",
        "\n",
        "mean_flattened = np.mean(flattened_array)\n",
        "median_flattened = np.median(flattened_array)\n",
        "std_dev_flattened = np.std(flattened_array)\n",
        "\n",
        "print(\"Flattened array statistics:\")\n",
        "print(f\"Mean: {mean_flattened}\")\n",
        "print(f\"Median: {median_flattened}\")\n",
        "print(f\"Standard Deviation: {std_dev_flattened}\")\n",
        "print('\\n')\n",
        "mean_columns = np.mean(array, axis=0)\n",
        "median_columns = np.median(array, axis=0)\n",
        "std_dev_columns = np.std(array, axis=0)\n",
        "\n",
        "print(\"Statistics for each column:\")\n",
        "print(f\"Mean: {mean_columns}\")\n",
        "print(f\"Median: {median_columns}\")\n",
        "print(f\"Standard Deviation: {std_dev_columns}\")\n",
        "\n",
        "mean_rows = np.mean(array, axis=1)\n",
        "median_rows = np.median(array, axis=1)\n",
        "std_dev_rows = np.std(array, axis=1)\n",
        "\n",
        "print(\"Statistics for each row:\")\n",
        "print(f\"Mean: {mean_rows}\")\n",
        "print(f\"Median: {median_rows}\")\n",
        "print(f\"Standard Deviation: {std_dev_rows}\")\n",
        "\n"
      ],
      "metadata": {
        "colab": {
          "base_uri": "https://localhost:8080/"
        },
        "id": "OMaQX2ixoS2W",
        "outputId": "137693a5-9cb9-4495-c10d-a224119106db"
      },
      "execution_count": null,
      "outputs": [
        {
          "output_type": "stream",
          "name": "stdout",
          "text": [
            "Flattened array statistics:\n",
            "Mean: -0.5\n",
            "Median: -0.5\n",
            "Standard Deviation: 3.8622100754188224\n",
            "\n",
            "\n",
            "Statistics for each column:\n",
            "Mean: [-1.5  1.5 -1.5]\n",
            "Median: [-1.5  1.5 -1.5]\n",
            "Standard Deviation: [2.5 3.5 4.5]\n",
            "Statistics for each row:\n",
            "Mean: [ 0.66666667 -1.66666667]\n",
            "Median: [ 1. -4.]\n",
            "Standard Deviation: [2.05480467 4.78423336]\n"
          ]
        }
      ]
    },
    {
      "cell_type": "markdown",
      "source": [
        "(b) For the array: a = np.array([-1.8, -1.6, -0.5, 0.5,1.6, 1.8, 3.0]). Find floor, ceiling\n",
        "and truncated value, rounded values"
      ],
      "metadata": {
        "id": "jitIcBd5qryW"
      }
    },
    {
      "cell_type": "code",
      "source": [
        "a=np.array([-1.8, -1.6, -0.5, 0.5,1.6, 1.8, 3.0])\n",
        "print(np.floor(a))\n",
        "print('\\n')\n",
        "print(np.ceil(a))\n",
        "print('\\n')\n",
        "print(np.trunc(a))\n",
        "print('\\n')\n",
        "print(np.round(a))"
      ],
      "metadata": {
        "colab": {
          "base_uri": "https://localhost:8080/"
        },
        "id": "g53Ubvk2qOR8",
        "outputId": "cdf831e7-87f5-4997-fe2b-c4753cd102c9"
      },
      "execution_count": null,
      "outputs": [
        {
          "output_type": "stream",
          "name": "stdout",
          "text": [
            "[-2. -2. -1.  0.  1.  1.  3.]\n",
            "\n",
            "\n",
            "[-1. -1. -0.  1.  2.  2.  3.]\n",
            "\n",
            "\n",
            "[-1. -1. -0.  0.  1.  1.  3.]\n",
            "\n",
            "\n",
            "[-2. -2. -0.  0.  2.  2.  3.]\n"
          ]
        }
      ]
    },
    {
      "cell_type": "markdown",
      "source": [],
      "metadata": {
        "id": "870zWNbXrDJD"
      }
    },
    {
      "cell_type": "markdown",
      "source": [
        "# **Q3: Based on Searching and Sorting**"
      ],
      "metadata": {
        "id": "ONf0gQ_JrEGL"
      }
    },
    {
      "cell_type": "markdown",
      "source": [
        "a) For the array: array = np.array([10, 52, 62, 16, 16, 54, 453]), find\n",
        "\n",
        "i. Sorted array\n",
        "\n",
        "ii. Indices of sorted array\n",
        "\n",
        " iii. 4 smallest elements\n",
        "\n",
        " iv. 5 largest elements\n"
      ],
      "metadata": {
        "id": "c63vumr0rMnu"
      }
    },
    {
      "cell_type": "code",
      "source": [
        "#i\n",
        "array = np.array([10, 52, 62, 16, 16, 54, 453])\n",
        "print(np.sort(array))"
      ],
      "metadata": {
        "colab": {
          "base_uri": "https://localhost:8080/"
        },
        "id": "D_DBuLijq6i-",
        "outputId": "5a87b5d8-d80c-4b70-b53d-083c95fbd5f7"
      },
      "execution_count": null,
      "outputs": [
        {
          "output_type": "stream",
          "name": "stdout",
          "text": [
            "[ 10  16  16  52  54  62 453]\n"
          ]
        }
      ]
    },
    {
      "cell_type": "code",
      "source": [
        "#ii\n",
        "print('The indices of sorted arry with respect to its original arry is:')\n",
        "print(np.argsort(array))"
      ],
      "metadata": {
        "colab": {
          "base_uri": "https://localhost:8080/"
        },
        "id": "tKTIoeg7rU2U",
        "outputId": "c7ebe464-f417-4f15-a04c-17ada087015b"
      },
      "execution_count": null,
      "outputs": [
        {
          "output_type": "stream",
          "name": "stdout",
          "text": [
            "The indices of sorted arry with respect to its original arry is:\n",
            "[0 3 4 1 5 2 6]\n"
          ]
        }
      ]
    },
    {
      "cell_type": "code",
      "source": [
        "#iii\n",
        "print('Four smallest number are:')\n",
        "print(np.sort(array)[:4])"
      ],
      "metadata": {
        "colab": {
          "base_uri": "https://localhost:8080/"
        },
        "id": "kPV7_VhNrpBg",
        "outputId": "c58397c1-e4ea-4e70-e001-35f30f32103b"
      },
      "execution_count": null,
      "outputs": [
        {
          "output_type": "stream",
          "name": "stdout",
          "text": [
            "Four smallest number are:\n",
            "[10 16 16 52]\n"
          ]
        }
      ]
    },
    {
      "cell_type": "code",
      "source": [
        "#iv\n",
        "print('Five largest number in ascending order  are:')\n",
        "print(np.sort(array)[-5:])"
      ],
      "metadata": {
        "colab": {
          "base_uri": "https://localhost:8080/"
        },
        "id": "Xa6c7Bu0taR_",
        "outputId": "b0915850-23eb-4fd3-e0c3-59da86a731e3"
      },
      "execution_count": null,
      "outputs": [
        {
          "output_type": "stream",
          "name": "stdout",
          "text": [
            "Five largest number in ascending order  are:\n",
            "[ 16  52  54  62 453]\n"
          ]
        }
      ]
    },
    {
      "cell_type": "markdown",
      "source": [
        "#\n",
        "Q4:\n",
        "\n",
        "(a) Write a function named img_to_array(path) that reads an image from a specified path and save it as text file on local machine? (Note: use separate cases for RGB and Grey Scale images)**"
      ],
      "metadata": {
        "id": "9xE-Zscft6QU"
      }
    },
    {
      "cell_type": "code",
      "source": [
        "from PIL import Image\n",
        "import numpy as np\n"
      ],
      "metadata": {
        "id": "2A2WMGe9BISE"
      },
      "execution_count": null,
      "outputs": []
    },
    {
      "cell_type": "code",
      "source": [
        "\n",
        "\n",
        "def img_to_array(path):\n",
        "\n",
        "\n",
        "    img = Image.open(path)\n",
        "\n",
        "\n",
        "    img_array = np.array(img)\n",
        "\n",
        "    if len(img_array.shape) == 2: # Grayscale image\n",
        "\n",
        "        image_type = 'Grayscale'\n",
        "    elif len(img_array.shape) == 3 and img_array.shape[2] == 3: # for  RGB image\n",
        "\n",
        "        image_type = 'RGB'\n",
        "    else:\n",
        "        raise ValueError(\"Unsupported image format\")\n",
        "    print(image_type)\n",
        "    # Save array to a text file\n",
        "    text_filename = path.rsplit('.', 1)[0] + '_array.txt'\n",
        "\n",
        "    with open(text_filename, 'w') as f:\n",
        "        if image_type == 'Gray':\n",
        "            # Write grayscale array to file\n",
        "            np.savetxt(f, img_array, fmt='%d')\n",
        "        elif image_type == 'RGB':\n",
        "            # Write RGB array to file\n",
        "            # Flatten the RGB array for simplicity\n",
        "            img_array_flat = img_array.reshape(-1, img_array.shape[2])\n",
        "            np.savetxt(f, img_array_flat, fmt='%d', delimiter=',')\n",
        "\n",
        "    print(f\"Array saved to {text_filename}\")\n",
        "\n",
        "path = r'/content/aachen_000011_000019_leftImg8bit_foggy_beta_0.02_fake_0.png'\n",
        "\n",
        "# Call the function\n",
        "img_to_array(path)\n"
      ],
      "metadata": {
        "colab": {
          "base_uri": "https://localhost:8080/"
        },
        "id": "WZOa3VkMCTYg",
        "outputId": "f65c52ee-2597-4181-b540-02fe633e74fa"
      },
      "execution_count": null,
      "outputs": [
        {
          "output_type": "stream",
          "name": "stdout",
          "text": [
            "RGB\n",
            "Array saved to /content/aachen_000011_000019_leftImg8bit_foggy_beta_0.02_fake_0_array.txt\n"
          ]
        }
      ]
    },
    {
      "cell_type": "code",
      "source": [],
      "metadata": {
        "id": "mT89f_XEGt8B"
      },
      "execution_count": null,
      "outputs": []
    }
  ]
}